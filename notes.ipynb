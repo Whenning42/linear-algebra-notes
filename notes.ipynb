{
  "nbformat": 4,
  "nbformat_minor": 0,
  "metadata": {
    "colab": {
      "provenance": [],
      "toc_visible": true,
      "authorship_tag": "ABX9TyOjw8nObK0Q4kW4/qZ6fjTl"
    },
    "kernelspec": {
      "name": "python3",
      "display_name": "Python 3"
    },
    "language_info": {
      "name": "python"
    }
  },
  "cells": [
    {
      "cell_type": "markdown",
      "source": [
        "# William’s Linear Algebra Notes\n",
        "\n",
        "## Latex Background\n",
        "\n",
        "An latex command is given between two `$` symbols. For example `$m \\times n$` renders as $m \\times n$.\n",
        "\n",
        "Here's a table of some common helpful notation:\n",
        "\n",
        "| Name  | Rendered | Latex |\n",
        "|-------|--------------|------------|\n",
        "| Reals | $\\mathbb{R}$ | \\mathbb{R} |\n",
        "| Complex | $\\mathbb{C}$ | \\mathbb{C} |\n",
        "| Exponentiation | $a^b$, $a^{b+c}$ | a^b, a^{b+c}, note to put more than a letter in the exponent, we use curly brackets. |\n",
        "| Transpose | $A^\\top$ | A^\\top |"
      ],
      "metadata": {
        "id": "1dEkCUUkXx8C"
      }
    },
    {
      "cell_type": "markdown",
      "source": [
        "## Matrices\n",
        "\n",
        "A matrix is an $m \\times n$ rectangle consisting of $m$ rows and $n$ columns of scalar values from some field $\\mathbb{F}$ (commonly $\\mathbb{R}$ or $\\mathbb{C}$). We deonte the space of $m \\times n$ matrices as $\\mathbb{F}^{m \\times n}$.\n",
        "\n",
        "An example $2 \\times 3$ matrix $A$ over the reals is:\n",
        "$A = \\begin{bmatrix} 1 & 2 & 3 \\\\ 4 & 5 & 6 \\end{bmatrix}$\n",
        "\n",
        "### Latex\n",
        "```\n",
        "A = \\begin{bmatrix} 1 & 2 & 3 \\\\ 4 & 5 & 6 \\end{bmatrix}\n",
        "```"
      ],
      "metadata": {
        "id": "vTlqGWEKgk0M"
      }
    },
    {
      "cell_type": "code",
      "execution_count": 6,
      "metadata": {
        "id": "b0I7d0NsXwX-",
        "colab": {
          "base_uri": "https://localhost:8080/"
        },
        "outputId": "20ea7efd-77e8-438e-d873-980ba739f46a"
      },
      "outputs": [
        {
          "output_type": "stream",
          "name": "stdout",
          "text": [
            "[[1 2 3]\n",
            " [4 5 6]]\n",
            "tensor([[1, 2, 3],\n",
            "        [4, 5, 6]])\n",
            "[[1 2 3]\n",
            " [4 5 6]]\n"
          ]
        }
      ],
      "source": [
        "import numpy as np\n",
        "import torch\n",
        "import jax.numpy as jnp\n",
        "\n",
        "# Note: All libraries use row major notation.\n",
        "# Sets a to:\n",
        "# [[1, 2, 3]\n",
        "#  [4, 5, 6]]\n",
        "a = np.array([[1, 2, 3], [4, 5, 6]])\n",
        "print(a)\n",
        "\n",
        "a = torch.tensor([[1, 2, 3], [4, 5, 6]])\n",
        "print(a)\n",
        "\n",
        "a = jnp.array([[1, 2, 3], [4, 5, 6]])\n",
        "print(a)"
      ]
    },
    {
      "cell_type": "markdown",
      "source": [
        "## Block Matrices\n",
        "\n",
        "A block matrix is a matrix that concatenates a rectangular grid of submatrices. Block matrices are denoted as:\n",
        "\n",
        "$M = \\begin{bmatrix} A & B \\\\ C & D \\end{bmatrix}$\n",
        "\n",
        "With concatenated matrices needing to match the size of their neighbors along their adjacent sides."
      ],
      "metadata": {
        "id": "ioW-9mRGiRLd"
      }
    },
    {
      "cell_type": "code",
      "source": [
        "# Numpy\n",
        "a = np.array([[2]])\n",
        "b = np.array([[4, 6]])\n",
        "c = np.array([[8]])\n",
        "d = np.array([[10, 12]])\n",
        "M = np.block([[a, b], [c, d]])\n",
        "print(M)\n",
        "\n",
        "# Torch\n",
        "#\n",
        "# Torch doesn't have a block matrix constructor.\n",
        "# We can however use `torch.cat().\n",
        "a = torch.tensor(a)\n",
        "b = torch.tensor(b)\n",
        "c = torch.tensor(c)\n",
        "d = torch.tensor(d)\n",
        "t = torch.cat([a, b], dim=1)\n",
        "b = torch.cat([c, d], dim=1)\n",
        "M = torch.cat([t, b], dim = 0)\n",
        "print(M)\n",
        "\n",
        "# Jax\n",
        "a = np.array([[2]])\n",
        "b = np.array([[4, 6]])\n",
        "c = np.array([[8]])\n",
        "d = np.array([[10, 12]])\n",
        "M = jnp.block([[a, b], [c, d]])\n",
        "print(M)\n"
      ],
      "metadata": {
        "colab": {
          "base_uri": "https://localhost:8080/"
        },
        "id": "fhVe1caWiqZx",
        "outputId": "661710a6-b996-4487-ce79-8bbbde91c3a6"
      },
      "execution_count": 16,
      "outputs": [
        {
          "output_type": "stream",
          "name": "stdout",
          "text": [
            "[[ 2  4  6]\n",
            " [ 8 10 12]]\n",
            "tensor([[ 2,  4,  6],\n",
            "        [ 8, 10, 12]])\n",
            "[[ 2  4  6]\n",
            " [ 8 10 12]]\n"
          ]
        }
      ]
    },
    {
      "cell_type": "markdown",
      "source": [
        "## Matrix Transpose\n",
        "\n",
        "The transpose of a matrix $A$ is denoted as $A^\\top$ and is the result of flipping that matrix across its diagonal.\n",
        "\n",
        "Formally $A^\\top$ is defined such that $A^\\top_{j,i} = A_{i,j} \\ \\forall i, j$.\n",
        "\n",
        "### Latex\n",
        "\n",
        "We use `^\\top` to indicate the transpose, so for example `A^\\top` gives us $A^\\top$."
      ],
      "metadata": {
        "id": "LWSDAG7_kQ31"
      }
    },
    {
      "cell_type": "code",
      "source": [
        "# A transpose can be applied in both the Numpy and Torch APIs either\n",
        "# by reordering axes or swapping two axes. We show both options for\n",
        "# both APIs. Do note the APIs use different names for these operations.\n",
        "\n",
        "# Numpy\n",
        "# `np.transpose` reorders axes.\n",
        "# `np.swapaxes()` swaps two axes.\n",
        "a = np.array([[1, 2]])\n",
        "print(np.transpose(a, axes=(1, 0)))\n",
        "print(np.swapaxes(a, 0, 1))\n",
        "\n",
        "\n",
        "# Torch\n",
        "# `torch.permute` reorders axes.\n",
        "# `torch.swapaxes()` swaps two axes.\n",
        "a = torch.Tensor([[1,  2]])\n",
        "print(torch.permute(a, (1, 0)))\n",
        "print(torch.transpose(a, 0, 1))\n",
        "\n",
        "# Jax\n",
        "a = jnp.array([[1, 2]])\n",
        "print(jnp.transpose(a, (1, 0)))\n",
        "print(jnp.swapaxes(a, 0, 1))"
      ],
      "metadata": {
        "colab": {
          "base_uri": "https://localhost:8080/"
        },
        "id": "zb1_bSz7mx8G",
        "outputId": "3bac544f-b4c2-4638-bdfb-52883bf0d851"
      },
      "execution_count": 34,
      "outputs": [
        {
          "output_type": "stream",
          "name": "stdout",
          "text": [
            "The transpose of [[1 2]] is:\n",
            "[[1]\n",
            " [2]]\n",
            "[[1]\n",
            " [2]]\n",
            "tensor([[1.],\n",
            "        [2.]])\n",
            "tensor([[1.],\n",
            "        [2.]])\n",
            "[[1]\n",
            " [2]]\n",
            "[[1]\n",
            " [2]]\n"
          ]
        }
      ]
    }
  ]
}